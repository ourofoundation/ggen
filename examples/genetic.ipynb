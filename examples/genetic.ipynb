{
 "cells": [
  {
   "cell_type": "code",
   "execution_count": 1,
   "id": "bc76e905",
   "metadata": {},
   "outputs": [],
   "source": [
    "from ggen import GGen"
   ]
  },
  {
   "cell_type": "code",
   "execution_count": null,
   "id": "25bd89ac",
   "metadata": {},
   "outputs": [
    {
     "name": "stderr",
     "output_type": "stream",
     "text": [
      "/Users/mmoderwell/.pyenv/versions/3.12.0/envs/hermes/lib/python3.12/site-packages/orb_models/utils.py:30: UserWarning: Setting global torch default dtype to torch.float32.\n",
      "  warnings.warn(f\"Setting global torch default dtype to {torch_dtype}.\")\n"
     ]
    }
   ],
   "source": [
    "generator = GGen(enable_trajectory=True)"
   ]
  },
  {
   "cell_type": "code",
   "execution_count": 5,
   "id": "acfb2818",
   "metadata": {},
   "outputs": [
    {
     "name": "stdout",
     "output_type": "stream",
     "text": [
      "                 Step     Time          Energy          fmax\n",
      "TrajectoryLBFGS:    0 11:29:49      -19.895010        3.993437\n",
      "TrajectoryLBFGS:    1 11:29:49      -20.438742        3.157059\n",
      "TrajectoryLBFGS:    2 11:29:49      -21.916452        2.731417\n",
      "TrajectoryLBFGS:    3 11:29:49      -22.272802        3.097271\n",
      "TrajectoryLBFGS:    4 11:29:49      -22.497192        1.693993\n",
      "TrajectoryLBFGS:    5 11:29:49      -22.729771        0.639358\n",
      "TrajectoryLBFGS:    6 11:29:49      -22.750891        0.217890\n",
      "TrajectoryLBFGS:    7 11:29:49      -22.752739        0.024691\n",
      "TrajectoryLBFGS:    8 11:29:49      -22.752750        0.021032\n",
      "TrajectoryLBFGS:    9 11:29:49      -22.752773        0.017037\n",
      "TrajectoryLBFGS:   10 11:29:49      -22.752817        0.030268\n",
      "TrajectoryLBFGS:   11 11:29:49      -22.752890        0.044875\n",
      "TrajectoryLBFGS:   12 11:29:50      -22.753025        0.062836\n",
      "TrajectoryLBFGS:   13 11:29:50      -22.753307        0.090155\n",
      "TrajectoryLBFGS:   14 11:29:50      -22.753941        0.138050\n",
      "TrajectoryLBFGS:   15 11:29:50      -22.754833        0.173002\n",
      "TrajectoryLBFGS:   16 11:29:50      -22.756920        0.160622\n",
      "TrajectoryLBFGS:   17 11:29:50      -22.757841        0.167845\n",
      "TrajectoryLBFGS:   18 11:29:50      -22.759602        0.100543\n",
      "TrajectoryLBFGS:   19 11:29:50      -22.760048        0.087482\n",
      "TrajectoryLBFGS:   20 11:29:50      -22.760731        0.063192\n",
      "TrajectoryLBFGS:   21 11:29:50      -22.760971        0.059597\n",
      "TrajectoryLBFGS:   22 11:29:50      -22.761208        0.039902\n",
      "TrajectoryLBFGS:   23 11:29:50      -22.761263        0.016112\n",
      "TrajectoryLBFGS:   24 11:29:50      -22.761274        0.003186\n"
     ]
    },
    {
     "data": {
      "text/plain": [
       "{'formula': 'SiO2',\n",
       " 'requested_space_group': None,\n",
       " 'selected_space_group': 156,\n",
       " 'space_group_randomly_selected': True,\n",
       " 'requested_space_group_symbol': 'P3m1',\n",
       " 'final_space_group': 164,\n",
       " 'final_space_group_symbol': 'P-3m1',\n",
       " 'space_group_changed': True,\n",
       " 'num_trials': 10,\n",
       " 'best_crystal_energy': -22.761274337768555,\n",
       " 'geometry_optimized': True,\n",
       " 'cif_content': \"# generated using pymatgen\\ndata_SiO2\\n_symmetry_space_group_name_H-M   P-3m1\\n_cell_length_a   2.69816332\\n_cell_length_b   2.69816332\\n_cell_length_c   5.27670516\\n_cell_angle_alpha   90.00000000\\n_cell_angle_beta   90.00000000\\n_cell_angle_gamma   120.00000000\\n_symmetry_Int_Tables_number   164\\n_chemical_formula_structural   SiO2\\n_chemical_formula_sum   'Si1 O2'\\n_cell_volume   33.26824782\\n_cell_formula_units_Z   1\\nloop_\\n _symmetry_equiv_pos_site_id\\n _symmetry_equiv_pos_as_xyz\\n  1  'x, y, z'\\n  2  '-x, -y, -z'\\n  3  '-y, x-y, z'\\n  4  'y, -x+y, -z'\\n  5  '-x+y, -x, z'\\n  6  'x-y, x, -z'\\n  7  'y, x, -z'\\n  8  '-y, -x, z'\\n  9  'x-y, -y, -z'\\n  10  '-x+y, y, z'\\n  11  '-x, -x+y, -z'\\n  12  'x, x-y, z'\\nloop_\\n _atom_site_type_symbol\\n _atom_site_label\\n _atom_site_symmetry_multiplicity\\n _atom_site_fract_x\\n _atom_site_fract_y\\n _atom_site_fract_z\\n _atom_site_occupancy\\n  Si  Si0  1  0.00000000  0.00000000  0.00000000  1\\n  O  O1  2  0.33333333  0.66666667  0.17335902  1\\n\",\n",
       " 'cif_base64': 'IyBnZW5lcmF0ZWQgdXNpbmcgcHltYXRnZW4KZGF0YV9TaU8yCl9zeW1tZXRyeV9zcGFjZV9ncm91cF9uYW1lX0gtTSAgIFAtM20xCl9jZWxsX2xlbmd0aF9hICAgMi42OTgxNjMzMgpfY2VsbF9sZW5ndGhfYiAgIDIuNjk4MTYzMzIKX2NlbGxfbGVuZ3RoX2MgICA1LjI3NjcwNTE2Cl9jZWxsX2FuZ2xlX2FscGhhICAgOTAuMDAwMDAwMDAKX2NlbGxfYW5nbGVfYmV0YSAgIDkwLjAwMDAwMDAwCl9jZWxsX2FuZ2xlX2dhbW1hICAgMTIwLjAwMDAwMDAwCl9zeW1tZXRyeV9JbnRfVGFibGVzX251bWJlciAgIDE2NApfY2hlbWljYWxfZm9ybXVsYV9zdHJ1Y3R1cmFsICAgU2lPMgpfY2hlbWljYWxfZm9ybXVsYV9zdW0gICAnU2kxIE8yJwpfY2VsbF92b2x1bWUgICAzMy4yNjgyNDc4MgpfY2VsbF9mb3JtdWxhX3VuaXRzX1ogICAxCmxvb3BfCiBfc3ltbWV0cnlfZXF1aXZfcG9zX3NpdGVfaWQKIF9zeW1tZXRyeV9lcXVpdl9wb3NfYXNfeHl6CiAgMSAgJ3gsIHksIHonCiAgMiAgJy14LCAteSwgLXonCiAgMyAgJy15LCB4LXksIHonCiAgNCAgJ3ksIC14K3ksIC16JwogIDUgICcteCt5LCAteCwgeicKICA2ICAneC15LCB4LCAteicKICA3ICAneSwgeCwgLXonCiAgOCAgJy15LCAteCwgeicKICA5ICAneC15LCAteSwgLXonCiAgMTAgICcteCt5LCB5LCB6JwogIDExICAnLXgsIC14K3ksIC16JwogIDEyICAneCwgeC15LCB6Jwpsb29wXwogX2F0b21fc2l0ZV90eXBlX3N5bWJvbAogX2F0b21fc2l0ZV9sYWJlbAogX2F0b21fc2l0ZV9zeW1tZXRyeV9tdWx0aXBsaWNpdHkKIF9hdG9tX3NpdGVfZnJhY3RfeAogX2F0b21fc2l0ZV9mcmFjdF95CiBfYXRvbV9zaXRlX2ZyYWN0X3oKIF9hdG9tX3NpdGVfb2NjdXBhbmN5CiAgU2kgIFNpMCAgMSAgMC4wMDAwMDAwMCAgMC4wMDAwMDAwMCAgMC4wMDAwMDAwMCAgMQogIE8gIE8xICAyICAwLjMzMzMzMzMzICAwLjY2NjY2NjY3ICAwLjE3MzM1OTAyICAxCg==',\n",
       " 'filename': 'SiO2_P-3m1.cif',\n",
       " 'name': 'SiO2 (P-3m1)',\n",
       " 'description': 'SiO2 (auto-selected SG: P3m1 #156, calculated SG: P-3m1 #164, optimized: 24 steps, cell relaxed (isotropic))',\n",
       " 'optimization_steps': 24}"
      ]
     },
     "execution_count": 5,
     "metadata": {},
     "output_type": "execute_result"
    }
   ],
   "source": [
    "generator.generate_crystal(formula=\"SiO2\", optimize_geometry=True)"
   ]
  },
  {
   "cell_type": "code",
   "execution_count": 9,
   "id": "6d592129",
   "metadata": {},
   "outputs": [
    {
     "name": "stdout",
     "output_type": "stream",
     "text": [
      "                 Step     Time          Energy          fmax\n",
      "TrajectoryLBFGS:    0 11:30:28       -4.779156      101.526904\n",
      "TrajectoryLBFGS:    1 11:30:28      -19.337204        9.112744\n",
      "TrajectoryLBFGS:    2 11:30:28      -21.363119        7.083811\n",
      "TrajectoryLBFGS:    3 11:30:28      -23.111038        1.841671\n",
      "TrajectoryLBFGS:    4 11:30:28      -23.290800        1.351060\n",
      "TrajectoryLBFGS:    5 11:30:28      -23.437706        1.248363\n",
      "TrajectoryLBFGS:    6 11:30:29      -23.456234        1.234891\n",
      "TrajectoryLBFGS:    7 11:30:29      -23.480595        1.132611\n",
      "TrajectoryLBFGS:    8 11:30:29      -23.511923        1.042757\n",
      "TrajectoryLBFGS:    9 11:30:29      -23.548609        0.822771\n",
      "TrajectoryLBFGS:   10 11:30:29      -23.574875        0.482684\n",
      "TrajectoryLBFGS:   11 11:30:29      -23.585880        0.290666\n",
      "TrajectoryLBFGS:   12 11:30:29      -23.590195        0.236170\n",
      "TrajectoryLBFGS:   13 11:30:29      -23.594820        0.263186\n",
      "TrajectoryLBFGS:   14 11:30:29      -23.600653        0.326232\n",
      "TrajectoryLBFGS:   15 11:30:29      -23.606073        0.289813\n",
      "TrajectoryLBFGS:   16 11:30:29      -23.610056        0.254702\n",
      "TrajectoryLBFGS:   17 11:30:29      -23.612566        0.200279\n",
      "TrajectoryLBFGS:   18 11:30:29      -23.614660        0.226695\n",
      "TrajectoryLBFGS:   19 11:30:29      -23.616871        0.213174\n",
      "TrajectoryLBFGS:   20 11:30:30      -23.618151        0.114510\n",
      "TrajectoryLBFGS:   21 11:30:30      -23.618746        0.109018\n",
      "TrajectoryLBFGS:   22 11:30:30      -23.619074        0.107655\n",
      "TrajectoryLBFGS:   23 11:30:30      -23.619678        0.095616\n",
      "TrajectoryLBFGS:   24 11:30:30      -23.620552        0.100505\n",
      "TrajectoryLBFGS:   25 11:30:30      -23.621603        0.104366\n",
      "TrajectoryLBFGS:   26 11:30:30      -23.622421        0.076380\n",
      "TrajectoryLBFGS:   27 11:30:30      -23.622946        0.061868\n",
      "TrajectoryLBFGS:   28 11:30:30      -23.623318        0.067266\n",
      "TrajectoryLBFGS:   29 11:30:30      -23.623775        0.080560\n",
      "TrajectoryLBFGS:   30 11:30:30      -23.624594        0.139220\n",
      "TrajectoryLBFGS:   31 11:30:30      -23.626083        0.204574\n",
      "TrajectoryLBFGS:   32 11:30:30      -23.628584        0.245251\n",
      "TrajectoryLBFGS:   33 11:30:30      -23.632320        0.319539\n",
      "TrajectoryLBFGS:   34 11:30:31      -23.638821        0.522287\n",
      "TrajectoryLBFGS:   35 11:30:31      -23.657116        1.030971\n",
      "TrajectoryLBFGS:   36 11:30:31      -23.693869        1.580577\n",
      "TrajectoryLBFGS:   37 11:30:31      -23.633728        2.247948\n",
      "TrajectoryLBFGS:   38 11:30:31      -23.620762        2.787741\n",
      "TrajectoryLBFGS:   39 11:30:31      -23.747150        2.455241\n",
      "TrajectoryLBFGS:   40 11:30:31      -23.944389        1.332826\n",
      "TrajectoryLBFGS:   41 11:30:31      -24.010143        1.953234\n",
      "TrajectoryLBFGS:   42 11:30:31      -24.171339        1.169404\n",
      "TrajectoryLBFGS:   43 11:30:31      -24.377972        0.943228\n",
      "TrajectoryLBFGS:   44 11:30:31      -24.552612        1.010574\n",
      "TrajectoryLBFGS:   45 11:30:31      -24.617283        1.848360\n",
      "TrajectoryLBFGS:   46 11:30:31      -24.719791        1.402140\n",
      "TrajectoryLBFGS:   47 11:30:31      -24.892338        1.977193\n",
      "TrajectoryLBFGS:   48 11:30:31      -25.141388        3.775015\n",
      "TrajectoryLBFGS:   49 11:30:31      -25.284588        4.917099\n",
      "TrajectoryLBFGS:   50 11:30:31      -25.601742        3.040584\n",
      "TrajectoryLBFGS:   51 11:30:32      -25.831490        1.620866\n",
      "TrajectoryLBFGS:   52 11:30:32      -25.892721        2.796592\n",
      "TrajectoryLBFGS:   53 11:30:32      -25.943556        0.854086\n",
      "TrajectoryLBFGS:   54 11:30:32      -25.979395        0.759832\n",
      "TrajectoryLBFGS:   55 11:30:32      -26.047283        1.435074\n",
      "TrajectoryLBFGS:   56 11:30:32      -26.095812        0.927387\n",
      "TrajectoryLBFGS:   57 11:30:32      -26.132292        0.311854\n",
      "TrajectoryLBFGS:   58 11:30:32      -26.139866        0.326510\n",
      "TrajectoryLBFGS:   59 11:30:32      -26.146479        0.246324\n",
      "TrajectoryLBFGS:   60 11:30:32      -26.149734        0.113089\n",
      "TrajectoryLBFGS:   61 11:30:32      -26.149939        0.041405\n",
      "TrajectoryLBFGS:   62 11:30:32      -26.149981        0.019555\n",
      "TrajectoryLBFGS:   63 11:30:32      -26.149998        0.015589\n",
      "TrajectoryLBFGS:   64 11:30:32      -26.150023        0.012479\n",
      "TrajectoryLBFGS:   65 11:30:32      -26.150032        0.010823\n",
      "TrajectoryLBFGS:   66 11:30:32      -26.150040        0.008339\n"
     ]
    },
    {
     "data": {
      "text/plain": [
       "(Structure Summary\n",
       " Lattice\n",
       "     abc : 2.8399043769945993 3.7525814951181005 8.921321956831642\n",
       "  angles : 104.25479663160503 83.97410191198391 88.27204058647318\n",
       "  volume : 91.48300576088208\n",
       "       A : np.float64(2.7198930657168905) np.float64(-0.7804958220309619) np.float64(0.24096649835707365)\n",
       "       B : np.float64(1.178250706337443) np.float64(3.515362841099269) np.float64(-0.579497408049933)\n",
       "       C : np.float64(-0.05626029309161709) np.float64(-0.862379145955514) np.float64(8.879364979855747)\n",
       "     pbc : True True True\n",
       " PeriodicSite: O (1.901, 2.09, 2.711) [0.3757, 0.7625, 0.3449]\n",
       " PeriodicSite: O (2.187, -0.384, 1.72) [0.7628, 0.1042, 0.1798]\n",
       " PeriodicSite: Si (0.7431, 0.01608, 2.46) [0.2256, 0.1231, 0.2789]\n",
       " PeriodicSite: O (0.9465, 1.32, 3.521) [0.1358, 0.5102, 0.4261],\n",
       " -26.150039672851562,\n",
       " 66)"
      ]
     },
     "execution_count": 9,
     "metadata": {},
     "output_type": "execute_result"
    }
   ],
   "source": [
    "generator.mutate_crystal(operations=[\n",
    "    {\n",
    "        \"op\": \"add_site\",\n",
    "        \"element\": \"O\",\n",
    "        \"coordinates\": (0.5, 0.5, 0.5),\n",
    "      \n",
    "    }\n",
    "])\n",
    "generator.optimize_geometry()"
   ]
  },
  {
   "cell_type": "code",
   "execution_count": 13,
   "id": "0da53d3b",
   "metadata": {},
   "outputs": [],
   "source": [
    "trajectory_name = generator.export_trajectory()"
   ]
  },
  {
   "cell_type": "code",
   "execution_count": 18,
   "id": "2c541e05",
   "metadata": {},
   "outputs": [
    {
     "data": {
      "text/plain": [
       "'crystal_trajectory_20250914_113256.traj'"
      ]
     },
     "execution_count": 18,
     "metadata": {},
     "output_type": "execute_result"
    }
   ],
   "source": [
    "trajectory_name"
   ]
  },
  {
   "cell_type": "code",
   "execution_count": null,
   "id": "dfc27cd9",
   "metadata": {},
   "outputs": [],
   "source": [
    "from pymatviz import TrajectoryWidget\n",
    "from ase.io import read\n",
    "\n",
    "atoms = read(trajectory_name, index=':')"
   ]
  },
  {
   "cell_type": "code",
   "execution_count": 22,
   "id": "d79d19fa",
   "metadata": {},
   "outputs": [
    {
     "name": "stderr",
     "output_type": "stream",
     "text": [
      "/Users/mmoderwell/.pyenv/versions/3.12.0/envs/hermes/lib/python3.12/site-packages/jupyter_client/session.py:718: UserWarning: Message serialization failed with:\n",
      "Out of range float values are not JSON compliant: nan\n",
      "Supporting this message is deprecated in jupyter-client 7, please make sure your message is JSON-compliant\n",
      "  content = self.pack(content)\n"
     ]
    },
    {
     "data": {
      "application/vnd.jupyter.widget-view+json": {
       "model_id": "0565c45024cc442f98f91678a6237b31",
       "version_major": 2,
       "version_minor": 1
      },
      "text/plain": [
       "TrajectoryWidget(trajectory={'frames': [{'structure': {'@module': 'pymatgen.core.structure', '@class': 'Struct…"
      ]
     },
     "execution_count": 22,
     "metadata": {},
     "output_type": "execute_result"
    }
   ],
   "source": [
    "TrajectoryWidget(atoms)"
   ]
  }
 ],
 "metadata": {
  "kernelspec": {
   "display_name": "hermes",
   "language": "python",
   "name": "python3"
  },
  "language_info": {
   "codemirror_mode": {
    "name": "ipython",
    "version": 3
   },
   "file_extension": ".py",
   "mimetype": "text/x-python",
   "name": "python",
   "nbconvert_exporter": "python",
   "pygments_lexer": "ipython3",
   "version": "3.12.0"
  }
 },
 "nbformat": 4,
 "nbformat_minor": 5
}
